{
 "cells": [
  {
   "cell_type": "code",
   "execution_count": 89,
   "metadata": {},
   "outputs": [],
   "source": [
    "from __future__ import absolute_import, division, print_function\n",
    "\n",
    "import tensorflow as tf\n",
    "tf.enable_eager_execution()\n",
    "\n",
    "import numpy as np\n",
    "import os\n",
    "import time\n",
    "from IPython.display import Image"
   ]
  },
  {
   "cell_type": "code",
   "execution_count": 90,
   "metadata": {},
   "outputs": [],
   "source": [
    "# Use my file:\n",
    "path_to_file = \"script.txt\""
   ]
  },
  {
   "cell_type": "code",
   "execution_count": 91,
   "metadata": {},
   "outputs": [
    {
     "name": "stdout",
     "output_type": "stream",
     "text": [
      "Length of text: 30539 characters\n"
     ]
    }
   ],
   "source": [
    "# Read, then decode for py2 compat.\n",
    "text = open(path_to_file, 'rb').read().decode(encoding = \"ISO-8859-1\")\n",
    "# length of text is the number of characters in it\n",
    "print ('Length of text: {} characters'.format(len(text)))"
   ]
  },
  {
   "cell_type": "code",
   "execution_count": 92,
   "metadata": {},
   "outputs": [],
   "source": [
    "# The unique characters in the file\n",
    "vocab = sorted(set(text))"
   ]
  },
  {
   "cell_type": "code",
   "execution_count": 93,
   "metadata": {},
   "outputs": [],
   "source": [
    "# Creating a mapping from unique characters to indices\n",
    "char2idx = {u:i for i, u in enumerate(vocab)}\n",
    "idx2char = np.array(vocab)\n",
    "\n",
    "text_as_int = np.array([char2idx[c] for c in text])"
   ]
  },
  {
   "cell_type": "code",
   "execution_count": 94,
   "metadata": {},
   "outputs": [],
   "source": [
    "# The maximum length sentence we want for a single input in characters\n",
    "seq_length = 120\n",
    "examples_per_epoch = len(text)//seq_length\n",
    "\n",
    "# Create training examples / targets\n",
    "char_dataset = tf.data.Dataset.from_tensor_slices(text_as_int)\n",
    "\n",
    "sequences = char_dataset.batch(seq_length+1, drop_remainder=True)"
   ]
  },
  {
   "cell_type": "code",
   "execution_count": 95,
   "metadata": {},
   "outputs": [],
   "source": [
    "def split_input_target(chunk):\n",
    "    input_text = chunk[:-1]\n",
    "    target_text = chunk[1:]\n",
    "    return input_text, target_text\n",
    "\n",
    "dataset = sequences.map(split_input_target)"
   ]
  },
  {
   "cell_type": "code",
   "execution_count": 96,
   "metadata": {},
   "outputs": [],
   "source": [
    "# Batch size\n",
    "BATCH_SIZE = 150\n",
    "\n",
    "# How many individual training steps per samples (steps)\n",
    "steps_per_epoch = examples_per_epoch//BATCH_SIZE\n",
    "\n",
    "# Buffer size to shuffle the dataset\n",
    "# (TF data is designed to work with possibly infinite sequences, \n",
    "# so it doesn't attempt to shuffle the entire sequence in memory. Instead, \n",
    "# it maintains a buffer in which it shuffles elements).\n",
    "BUFFER_SIZE = 10000\n",
    "\n",
    "dataset = dataset.shuffle(BUFFER_SIZE).batch(BATCH_SIZE, drop_remainder=True)\n"
   ]
  },
  {
   "cell_type": "code",
   "execution_count": 97,
   "metadata": {},
   "outputs": [],
   "source": [
    "# Length of the vocabulary in chars\n",
    "vocab_size = len(vocab)\n",
    "\n",
    "# The embedding dimension \n",
    "embedding_dim = 256\n",
    "\n",
    "# Number of RNN units\n",
    "rnn_units = 1024"
   ]
  },
  {
   "cell_type": "code",
   "execution_count": 98,
   "metadata": {},
   "outputs": [],
   "source": [
    "if tf.test.is_gpu_available():\n",
    "  rnn = tf.keras.layers.CuDNNGRU\n",
    "  rnn2 = tf.keras.layers.CuDNNGRU\n",
    "else:\n",
    "  import functools\n",
    "  rnn = functools.partial(\n",
    "    tf.keras.layers.GRU, recurrent_activation='sigmoid')"
   ]
  },
  {
   "cell_type": "code",
   "execution_count": 99,
   "metadata": {},
   "outputs": [],
   "source": [
    "def build_model(vocab_size, embedding_dim, rnn_units, batch_size):\n",
    "  model = tf.keras.Sequential([\n",
    "    tf.keras.layers.Embedding(vocab_size, embedding_dim, \n",
    "                              batch_input_shape=[batch_size, None]),\n",
    "    rnn(rnn_units,\n",
    "        return_sequences=True, \n",
    "        recurrent_initializer='glorot_uniform',\n",
    "        stateful=True),\n",
    "      \n",
    "    rnn(rnn_units,\n",
    "        return_sequences=True, \n",
    "        recurrent_initializer='glorot_uniform',\n",
    "        stateful=True),\n",
    "\n",
    "    tf.keras.layers.Dense(vocab_size)\n",
    "  ])\n",
    "  return model"
   ]
  },
  {
   "cell_type": "code",
   "execution_count": 100,
   "metadata": {},
   "outputs": [],
   "source": [
    "model = build_model(\n",
    "  vocab_size = len(vocab), \n",
    "  embedding_dim=embedding_dim, \n",
    "  rnn_units=rnn_units, \n",
    "  batch_size=BATCH_SIZE)"
   ]
  },
  {
   "cell_type": "code",
   "execution_count": 101,
   "metadata": {},
   "outputs": [],
   "source": [
    "for input_example_batch, target_example_batch in dataset.take(1): \n",
    "  example_batch_predictions = model(input_example_batch)"
   ]
  },
  {
   "cell_type": "code",
   "execution_count": 102,
   "metadata": {},
   "outputs": [],
   "source": [
    "sampled_indices = tf.random.categorical(example_batch_predictions[0], num_samples=1)\n",
    "sampled_indices = tf.squeeze(sampled_indices,axis=-1).numpy()"
   ]
  },
  {
   "cell_type": "code",
   "execution_count": 103,
   "metadata": {},
   "outputs": [
    {
     "name": "stdout",
     "output_type": "stream",
     "text": [
      "Prediction shape:  (150, 120, 71)  # (batch_size, sequence_length, vocab_size)\n",
      "scalar_loss:       4.2616596\n"
     ]
    }
   ],
   "source": [
    "def loss(labels, logits):\n",
    "  return tf.keras.losses.sparse_categorical_crossentropy(labels, logits, from_logits=True)\n",
    "\n",
    "example_batch_loss  = loss(target_example_batch, example_batch_predictions)\n",
    "print(\"Prediction shape: \", example_batch_predictions.shape, \" # (batch_size, sequence_length, vocab_size)\") \n",
    "print(\"scalar_loss:      \", example_batch_loss.numpy().mean())"
   ]
  },
  {
   "cell_type": "code",
   "execution_count": 104,
   "metadata": {},
   "outputs": [],
   "source": [
    "model.compile(\n",
    "    optimizer = tf.train.AdamOptimizer(),\n",
    "    loss = loss)"
   ]
  },
  {
   "cell_type": "code",
   "execution_count": 105,
   "metadata": {},
   "outputs": [],
   "source": [
    "# Directory where the checkpoints will be saved\n",
    "checkpoint_dir = './CheckpointData'\n",
    "\n",
    "# Name of the checkpoint files\n",
    "checkpoint_prefix = os.path.join(checkpoint_dir, \"ckpt_{epoch}\")\n",
    "\n",
    "checkpoint_callback=tf.keras.callbacks.ModelCheckpoint(\n",
    "    filepath=checkpoint_prefix,\n",
    "    save_weights_only=True)"
   ]
  },
  {
   "cell_type": "code",
   "execution_count": 106,
   "metadata": {},
   "outputs": [
    {
     "name": "stdout",
     "output_type": "stream",
     "text": [
      "Epoch 1/50\n",
      "1/1 [==============================] - 2s 2s/step - loss: 4.2616\n",
      "Epoch 2/50\n",
      "1/1 [==============================] - 1s 642ms/step - loss: 4.1923\n",
      "Epoch 3/50\n",
      "1/1 [==============================] - 1s 606ms/step - loss: 3.8294\n",
      "Epoch 4/50\n",
      "1/1 [==============================] - 1s 637ms/step - loss: 9.5694\n",
      "Epoch 5/50\n",
      "1/1 [==============================] - 1s 627ms/step - loss: 3.5344\n",
      "Epoch 6/50\n",
      "1/1 [==============================] - 1s 653ms/step - loss: 3.7858\n",
      "Epoch 7/50\n",
      "1/1 [==============================] - 1s 647ms/step - loss: 3.9136\n",
      "Epoch 8/50\n",
      "1/1 [==============================] - 1s 683ms/step - loss: 3.9152\n",
      "Epoch 9/50\n",
      "1/1 [==============================] - 1s 708ms/step - loss: 3.8714\n",
      "Epoch 10/50\n",
      "1/1 [==============================] - 1s 694ms/step - loss: 3.8307\n",
      "Epoch 11/50\n",
      "1/1 [==============================] - 1s 631ms/step - loss: 3.8866\n",
      "Epoch 12/50\n",
      "1/1 [==============================] - 1s 644ms/step - loss: 3.7619\n",
      "Epoch 13/50\n",
      "1/1 [==============================] - 1s 640ms/step - loss: 3.7148\n",
      "Epoch 14/50\n",
      "1/1 [==============================] - 1s 626ms/step - loss: 3.6859\n",
      "Epoch 15/50\n",
      "1/1 [==============================] - 1s 638ms/step - loss: 3.6266\n",
      "Epoch 16/50\n",
      "1/1 [==============================] - 1s 669ms/step - loss: 3.5510\n",
      "Epoch 17/50\n",
      "1/1 [==============================] - 1s 626ms/step - loss: 3.4545\n",
      "Epoch 18/50\n",
      "1/1 [==============================] - 1s 638ms/step - loss: 3.3930\n",
      "Epoch 19/50\n",
      "1/1 [==============================] - 1s 696ms/step - loss: 3.3427\n",
      "Epoch 20/50\n",
      "1/1 [==============================] - 1s 682ms/step - loss: 3.2424\n",
      "Epoch 21/50\n",
      "1/1 [==============================] - 1s 648ms/step - loss: 3.2198\n",
      "Epoch 22/50\n",
      "1/1 [==============================] - 1s 677ms/step - loss: 3.3014\n",
      "Epoch 23/50\n",
      "1/1 [==============================] - 1s 634ms/step - loss: 3.2779\n",
      "Epoch 24/50\n",
      "1/1 [==============================] - 1s 633ms/step - loss: 3.2478\n",
      "Epoch 25/50\n",
      "1/1 [==============================] - 1s 597ms/step - loss: 3.2228\n",
      "Epoch 26/50\n",
      "1/1 [==============================] - 1s 621ms/step - loss: 3.1917\n",
      "Epoch 27/50\n",
      "1/1 [==============================] - 1s 590ms/step - loss: 3.1883\n",
      "Epoch 28/50\n",
      "1/1 [==============================] - 1s 629ms/step - loss: 3.1874\n",
      "Epoch 29/50\n",
      "1/1 [==============================] - 1s 612ms/step - loss: 3.1719\n",
      "Epoch 30/50\n",
      "1/1 [==============================] - 1s 673ms/step - loss: 3.1665\n",
      "Epoch 31/50\n",
      "1/1 [==============================] - 1s 663ms/step - loss: 3.1557\n",
      "Epoch 32/50\n",
      "1/1 [==============================] - 1s 662ms/step - loss: 3.1207\n",
      "Epoch 33/50\n",
      "1/1 [==============================] - 1s 658ms/step - loss: 3.1076\n",
      "Epoch 34/50\n",
      "1/1 [==============================] - 1s 742ms/step - loss: 3.0986\n",
      "Epoch 35/50\n",
      "1/1 [==============================] - 1s 669ms/step - loss: 3.0915\n",
      "Epoch 36/50\n",
      "1/1 [==============================] - 1s 632ms/step - loss: 3.0696\n",
      "Epoch 37/50\n",
      "1/1 [==============================] - 1s 619ms/step - loss: 3.0706\n",
      "Epoch 38/50\n",
      "1/1 [==============================] - 1s 606ms/step - loss: 3.0528\n",
      "Epoch 39/50\n",
      "1/1 [==============================] - 1s 609ms/step - loss: 3.0418\n",
      "Epoch 40/50\n",
      "1/1 [==============================] - 1s 626ms/step - loss: 3.0264\n",
      "Epoch 41/50\n",
      "1/1 [==============================] - 1s 664ms/step - loss: 3.0006\n",
      "Epoch 42/50\n",
      "1/1 [==============================] - 1s 674ms/step - loss: 2.9730\n",
      "Epoch 43/50\n",
      "1/1 [==============================] - 1s 669ms/step - loss: 2.9860\n",
      "Epoch 44/50\n",
      "1/1 [==============================] - 1s 714ms/step - loss: 2.9653\n",
      "Epoch 45/50\n",
      "1/1 [==============================] - 1s 697ms/step - loss: 2.9430\n",
      "Epoch 46/50\n",
      "1/1 [==============================] - 1s 642ms/step - loss: 2.9458\n",
      "Epoch 47/50\n",
      "1/1 [==============================] - 1s 658ms/step - loss: 2.9077\n",
      "Epoch 48/50\n",
      "1/1 [==============================] - 1s 635ms/step - loss: 2.8978\n",
      "Epoch 49/50\n",
      "1/1 [==============================] - 1s 625ms/step - loss: 2.8711\n",
      "Epoch 50/50\n",
      "1/1 [==============================] - 1s 610ms/step - loss: 2.8543\n"
     ]
    }
   ],
   "source": [
    "history = model.fit(dataset.repeat(), epochs=50, steps_per_epoch=steps_per_epoch, callbacks=[checkpoint_callback])"
   ]
  },
  {
   "cell_type": "code",
   "execution_count": 107,
   "metadata": {},
   "outputs": [],
   "source": [
    "tf.train.latest_checkpoint(checkpoint_dir)\n",
    "\n",
    "model = build_model(vocab_size, embedding_dim, rnn_units, batch_size=1)\n",
    "\n",
    "model.load_weights(tf.train.latest_checkpoint(checkpoint_dir))\n",
    "\n",
    "model.build(tf.TensorShape([1, None]))"
   ]
  },
  {
   "cell_type": "code",
   "execution_count": 108,
   "metadata": {},
   "outputs": [],
   "source": [
    "def generate_text(model, start_string):\n",
    "  # Evaluation step (generating text using the learned model)\n",
    "\n",
    "  # Number of characters to generate\n",
    "  num_generate = 1000\n",
    "\n",
    "  # Converting our start string to numbers (vectorizing) \n",
    "  input_eval = [char2idx[s] for s in start_string]\n",
    "  input_eval = tf.expand_dims(input_eval, 0)\n",
    "\n",
    "  # Empty string to store our results\n",
    "  text_generated = []\n",
    "\n",
    "  # Low temperatures results in more predictable text.\n",
    "  # Higher temperatures results in more surprising text.\n",
    "  # Experiment to find the best setting.\n",
    "  temperature = 0.7\n",
    "\n",
    "  # Here batch size == 1\n",
    "  model.reset_states()\n",
    "  for i in range(num_generate):\n",
    "      predictions = model(input_eval)\n",
    "        \n",
    "      # remove the batch dimension\n",
    "      predictions = tf.squeeze(predictions, 0)\n",
    "\n",
    "      # using a multinomial distribution to predict the word returned by the model\n",
    "      predictions = predictions / temperature\n",
    "      predicted_id = tf.multinomial(predictions, num_samples=1)[-1,0].numpy()\n",
    "      \n",
    "      # We pass the predicted word as the next input to the model\n",
    "      # along with the previous hidden state\n",
    "      input_eval = tf.expand_dims([predicted_id], 0)\n",
    "      \n",
    "      text_generated.append(idx2char[predicted_id])\n",
    "\n",
    "  return (start_string + ''.join(text_generated))"
   ]
  },
  {
   "cell_type": "code",
   "execution_count": 109,
   "metadata": {},
   "outputs": [
    {
     "name": "stdout",
     "output_type": "stream",
     "text": [
      "Begin:\n",
      "wenHe Tpee nond aenin are fse urne ton toe aon ns see yut ot oe oeiO boe ynnrd Inu aop wiu oniing\n",
      "I so se merin tle hts tir ruone bon ouel'\n",
      " ogk\n",
      "e, bot yot bond one\n",
      "a's oo oe an torre dheohlt tott wrhe, wothe at tonn iry ort t oy anr aa\n",
      "le eomes tor t\n",
      "urt herla giis ao eant lor mas tne wroe ghfe lr hia tas ghe yoe t yok nitn\n",
      "oTe gue arte\n",
      " fon ee aig aroe lr\n",
      "ra ite\n",
      " I nut har tayss aos wha ow oond tien fahe ers ou oa eon wmin\n",
      "\n",
      " fort ae booe yo\n",
      " woire se it tie Tfed ohe, pon thoe wwet he nonne gan ehre, yhs yhe bnee topuliL dtsuhe ont oog au tinsot tiu osin lere tonhe woe I boe kol hih car\n",
      "Ng roo his ohio omot meu\n",
      "\n",
      "Yois hre lt to oe woe sohn wmre tan\n",
      " awds innd iouplle ois whor tr oue Ii\n",
      "t, wree hans lok wen\n",
      "e tosn hapne wou itcair yce, ao nutne ed arot wone\n",
      "ps hie tunl reere yoel hant hor\n",
      "t moe gne toe lou isw, tann tes hor ttre yhle- de\n",
      "t kouhe's hue y ot horl e\n",
      "oa t ie\n",
      "be\n",
      "rve fy on(g tolt dom t starne eke te tepge are oo tt ies youls fe\n",
      "wAg ctee myruorl, Wou Tte\n",
      "y 1ot I hapen\n",
      "\n",
      "wDhe ht\n"
     ]
    }
   ],
   "source": [
    "result = generate_text(model, start_string=u\"Begin:\\n\")\n",
    "print(result)"
   ]
  },
  {
   "cell_type": "code",
   "execution_count": 110,
   "metadata": {},
   "outputs": [],
   "source": [
    "# Save the result in a file\n",
    "f = open('bachSize=100_epochs=100.txt', 'w+')\n",
    "f.write(result)\n",
    "f.close()"
   ]
  }
 ],
 "metadata": {
  "kernelspec": {
   "display_name": "Python 3",
   "language": "python",
   "name": "python3"
  },
  "language_info": {
   "codemirror_mode": {
    "name": "ipython",
    "version": 3
   },
   "file_extension": ".py",
   "mimetype": "text/x-python",
   "name": "python",
   "nbconvert_exporter": "python",
   "pygments_lexer": "ipython3",
   "version": "3.7.3"
  }
 },
 "nbformat": 4,
 "nbformat_minor": 2
}
