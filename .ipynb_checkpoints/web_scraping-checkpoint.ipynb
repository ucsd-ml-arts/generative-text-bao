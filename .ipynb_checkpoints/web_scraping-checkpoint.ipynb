{
 "cells": [
  {
   "cell_type": "code",
   "execution_count": 2,
   "metadata": {},
   "outputs": [],
   "source": [
    "from bs4 import BeautifulSoup as soup\n",
    "from urllib.request import urlopen as uReq\n",
    "import re\n"
   ]
  },
  {
   "cell_type": "code",
   "execution_count": 3,
   "metadata": {},
   "outputs": [],
   "source": [
    "def webscrap(my_url, saving_file): \n",
    "    # Get the page from url\n",
    "    client = uReq(my_url)\n",
    "    page_html = client.read()\n",
    "\n",
    "    # Close the page after getting the data into page_html\n",
    "    client.close()\n",
    "    \n",
    "    # html parsing\n",
    "    page_info = soup(page_html, \"html.parser\")\n",
    "    container = page_info.findAll(\"div\",{\"class\":\"scrolling-script-container\"})\n",
    "    \n",
    "    # Getting the text\n",
    "    script = container[0].text.strip()\n",
    "\n",
    "    # Breaking the paragraph into sentences in each line\n",
    "    sentences = re.split(r' *[\\.\\?!][\\'\"\\)\\]]* *',script )\n",
    "    \n",
    "    # Open a new file\n",
    "    f = open(saving_file,'w')\n",
    "\n",
    "    # Write line by line of the script in the new file\n",
    "    for i in sentences:\n",
    "        f.write(i+\"\\n\")\n",
    "\n",
    "    f.close()"
   ]
  },
  {
   "cell_type": "code",
   "execution_count": 4,
   "metadata": {},
   "outputs": [],
   "source": [
    "# Generate the script\n",
    "webscrap('https://www.springfieldspringfield.co.uk/view_episode_scripts.php?tv-show=how-i-met-your-mother&episode=s01e01', 'himym.txt')\n"
   ]
  },
  {
   "cell_type": "code",
   "execution_count": null,
   "metadata": {},
   "outputs": [],
   "source": []
  }
 ],
 "metadata": {
  "kernelspec": {
   "display_name": "Python 3",
   "language": "python",
   "name": "python3"
  },
  "language_info": {
   "codemirror_mode": {
    "name": "ipython",
    "version": 3
   },
   "file_extension": ".py",
   "mimetype": "text/x-python",
   "name": "python",
   "nbconvert_exporter": "python",
   "pygments_lexer": "ipython3",
   "version": "3.7.3"
  }
 },
 "nbformat": 4,
 "nbformat_minor": 2
}
