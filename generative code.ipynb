{
 "cells": [
  {
   "cell_type": "code",
   "execution_count": 3,
   "metadata": {},
   "outputs": [],
   "source": [
    "from __future__ import absolute_import, division, print_function\n",
    "\n",
    "import tensorflow as tf\n",
    "tf.enable_eager_execution()\n",
    "\n",
    "import numpy as np\n",
    "import os\n",
    "import time\n",
    "from IPython.display import Image"
   ]
  },
  {
   "cell_type": "code",
   "execution_count": 35,
   "metadata": {},
   "outputs": [],
   "source": [
    "# Use my file:\n",
    "path_to_file = \"himym.txt\"\n",
    "path_to_file_1 = 'theoffice.txt'"
   ]
  },
  {
   "cell_type": "code",
   "execution_count": 5,
   "metadata": {},
   "outputs": [
    {
     "name": "stdout",
     "output_type": "stream",
     "text": [
      "Length of text: 15391 characters\n"
     ]
    }
   ],
   "source": [
    "# Read, then decode for py2 compat.\n",
    "text = open(path_to_file, 'rb').read().decode(encoding = \"ISO-8859-1\")\n",
    "# length of text is the number of characters in it\n",
    "print ('Length of text: {} characters'.format(len(text)))"
   ]
  },
  {
   "cell_type": "code",
   "execution_count": 6,
   "metadata": {},
   "outputs": [
    {
     "name": "stdout",
     "output_type": "stream",
     "text": [
      "69 unique characters\n"
     ]
    }
   ],
   "source": [
    "# The unique characters in the file\n",
    "vocab = sorted(set(text))\n",
    "print ('{} unique characters'.format(len(vocab)))"
   ]
  },
  {
   "cell_type": "code",
   "execution_count": 7,
   "metadata": {},
   "outputs": [],
   "source": [
    "# Creating a mapping from unique characters to indices\n",
    "char2idx = {u:i for i, u in enumerate(vocab)}\n",
    "idx2char = np.array(vocab)\n",
    "\n",
    "text_as_int = np.array([char2idx[c] for c in text])"
   ]
  },
  {
   "cell_type": "code",
   "execution_count": 8,
   "metadata": {},
   "outputs": [],
   "source": [
    "# The maximum length sentence we want for a single input in characters\n",
    "seq_length = 120\n",
    "examples_per_epoch = len(text)//seq_length\n",
    "\n",
    "# Create training examples / targets\n",
    "char_dataset = tf.data.Dataset.from_tensor_slices(text_as_int)\n",
    "\n",
    "sequences = char_dataset.batch(seq_length+1, drop_remainder=True)"
   ]
  },
  {
   "cell_type": "code",
   "execution_count": 9,
   "metadata": {},
   "outputs": [],
   "source": [
    "def split_input_target(chunk):\n",
    "    input_text = chunk[:-1]\n",
    "    target_text = chunk[1:]\n",
    "    return input_text, target_text\n",
    "\n",
    "dataset = sequences.map(split_input_target)"
   ]
  },
  {
   "cell_type": "code",
   "execution_count": 10,
   "metadata": {},
   "outputs": [
    {
     "name": "stdout",
     "output_type": "stream",
     "text": [
      "Input data:  \"OLDER TED: Kids, I'm gonna tell you an incredible story\\nThe story of how I met your mother\\n- Are we being punished for s\"\n",
      "Target data: \"LDER TED: Kids, I'm gonna tell you an incredible story\\nThe story of how I met your mother\\n- Are we being punished for so\"\n"
     ]
    }
   ],
   "source": [
    "for input_example, target_example in  dataset.take(1):\n",
    "  print ('Input data: ', repr(''.join(idx2char[input_example.numpy()])))\n",
    "  print ('Target data:', repr(''.join(idx2char[target_example.numpy()])))"
   ]
  },
  {
   "cell_type": "code",
   "execution_count": 11,
   "metadata": {},
   "outputs": [
    {
     "name": "stdout",
     "output_type": "stream",
     "text": [
      "Step    0\n",
      "  input: 30 ('O')\n",
      "  expected output: 27 ('L')\n",
      "Step    1\n",
      "  input: 27 ('L')\n",
      "  expected output: 19 ('D')\n",
      "Step    2\n",
      "  input: 19 ('D')\n",
      "  expected output: 20 ('E')\n",
      "Step    3\n",
      "  input: 20 ('E')\n",
      "  expected output: 32 ('R')\n",
      "Step    4\n",
      "  input: 32 ('R')\n",
      "  expected output: 1 (' ')\n"
     ]
    }
   ],
   "source": [
    "for i, (input_idx, target_idx) in enumerate(zip(input_example[:5], target_example[:5])):\n",
    "    print(\"Step {:4d}\".format(i))\n",
    "    print(\"  input: {} ({:s})\".format(input_idx, repr(idx2char[input_idx])))\n",
    "    print(\"  expected output: {} ({:s})\".format(target_idx, repr(idx2char[target_idx])))"
   ]
  },
  {
   "cell_type": "code",
   "execution_count": 12,
   "metadata": {},
   "outputs": [
    {
     "data": {
      "text/plain": [
       "<DatasetV1Adapter shapes: ((64, 120), (64, 120)), types: (tf.int64, tf.int64)>"
      ]
     },
     "execution_count": 12,
     "metadata": {},
     "output_type": "execute_result"
    }
   ],
   "source": [
    "# Batch size (number of 100 word sequences to train on)\n",
    "BATCH_SIZE = 64\n",
    "\n",
    "# How many individual training steps per samples (steps)\n",
    "steps_per_epoch = examples_per_epoch//BATCH_SIZE\n",
    "\n",
    "# Buffer size to shuffle the dataset\n",
    "# (TF data is designed to work with possibly infinite sequences, \n",
    "# so it doesn't attempt to shuffle the entire sequence in memory. Instead, \n",
    "# it maintains a buffer in which it shuffles elements).\n",
    "BUFFER_SIZE = 10000\n",
    "\n",
    "dataset = dataset.shuffle(BUFFER_SIZE).batch(BATCH_SIZE, drop_remainder=True)\n",
    "\n",
    "dataset"
   ]
  },
  {
   "cell_type": "code",
   "execution_count": 13,
   "metadata": {},
   "outputs": [],
   "source": [
    "# Length of the vocabulary in chars\n",
    "vocab_size = len(vocab)\n",
    "\n",
    "# The embedding dimension \n",
    "embedding_dim = 256\n",
    "\n",
    "# Number of RNN units\n",
    "rnn_units = 1024"
   ]
  },
  {
   "cell_type": "code",
   "execution_count": 14,
   "metadata": {},
   "outputs": [],
   "source": [
    "if tf.test.is_gpu_available():\n",
    "  rnn = tf.keras.layers.CuDNNGRU\n",
    "  rnn2 = tf.keras.layers.CuDNNGRU\n",
    "else:\n",
    "  import functools\n",
    "  rnn = functools.partial(\n",
    "    tf.keras.layers.GRU, recurrent_activation='sigmoid')"
   ]
  },
  {
   "cell_type": "code",
   "execution_count": 15,
   "metadata": {},
   "outputs": [],
   "source": [
    "def build_model(vocab_size, embedding_dim, rnn_units, batch_size):\n",
    "  model = tf.keras.Sequential([\n",
    "    tf.keras.layers.Embedding(vocab_size, embedding_dim, \n",
    "                              batch_input_shape=[batch_size, None]),\n",
    "    rnn(rnn_units,\n",
    "        return_sequences=True, \n",
    "        recurrent_initializer='glorot_uniform',\n",
    "        stateful=True),\n",
    "    rnn(rnn_units,\n",
    "        return_sequences=True, \n",
    "        recurrent_initializer='glorot_uniform',\n",
    "        stateful=True),\n",
    "te\n",
    "    tf.keras.layers.Dense(vocab_size)\n",
    "  ])\n",
    "  return model"
   ]
  },
  {
   "cell_type": "code",
   "execution_count": 16,
   "metadata": {},
   "outputs": [],
   "source": [
    "model = build_model(\n",
    "  vocab_size = len(vocab), \n",
    "  embedding_dim=embedding_dim, \n",
    "  rnn_units=rnn_units, \n",
    "  batch_size=BATCH_SIZE)"
   ]
  },
  {
   "cell_type": "code",
   "execution_count": 17,
   "metadata": {},
   "outputs": [],
   "source": [
    "for input_example_batch, target_example_batch in dataset.take(1): \n",
    "  example_batch_predictions = model(input_example_batch)"
   ]
  },
  {
   "cell_type": "code",
   "execution_count": 18,
   "metadata": {},
   "outputs": [],
   "source": [
    "sampled_indices = tf.random.categorical(example_batch_predictions[0], num_samples=1)\n",
    "sampled_indices = tf.squeeze(sampled_indices,axis=-1).numpy()"
   ]
  },
  {
   "cell_type": "code",
   "execution_count": 19,
   "metadata": {},
   "outputs": [
    {
     "name": "stdout",
     "output_type": "stream",
     "text": [
      "Prediction shape:  (64, 120, 69)  # (batch_size, sequence_length, vocab_size)\n",
      "scalar_loss:       4.234866\n"
     ]
    }
   ],
   "source": [
    "def loss(labels, logits):\n",
    "  return tf.keras.losses.sparse_categorical_crossentropy(labels, logits, from_logits=True)\n",
    "\n",
    "example_batch_loss  = loss(target_example_batch, example_batch_predictions)\n",
    "print(\"Prediction shape: \", example_batch_predictions.shape, \" # (batch_size, sequence_length, vocab_size)\") \n",
    "print(\"scalar_loss:      \", example_batch_loss.numpy().mean())"
   ]
  },
  {
   "cell_type": "code",
   "execution_count": 20,
   "metadata": {},
   "outputs": [],
   "source": [
    "model.compile(\n",
    "    optimizer = tf.train.AdamOptimizer(),\n",
    "    loss = loss)"
   ]
  },
  {
   "cell_type": "code",
   "execution_count": 21,
   "metadata": {},
   "outputs": [],
   "source": [
    "# Directory where the checkpoints will be saved\n",
    "checkpoint_dir = './CheckpointData'\n",
    "\n",
    "# Name of the checkpoint files\n",
    "checkpoint_prefix = os.path.join(checkpoint_dir, \"ckpt_{epoch}\")\n",
    "\n",
    "checkpoint_callback=tf.keras.callbacks.ModelCheckpoint(\n",
    "    filepath=checkpoint_prefix,\n",
    "    save_weights_only=True)"
   ]
  },
  {
   "cell_type": "code",
   "execution_count": 22,
   "metadata": {},
   "outputs": [
    {
     "name": "stdout",
     "output_type": "stream",
     "text": [
      "Epoch 1/40\n",
      "2/2 [==============================] - 1s 687ms/step - loss: 4.2028\n",
      "Epoch 2/40\n",
      "2/2 [==============================] - 1s 265ms/step - loss: 6.3248\n",
      "Epoch 3/40\n",
      "2/2 [==============================] - 1s 293ms/step - loss: 3.6608\n",
      "Epoch 4/40\n",
      "2/2 [==============================] - 1s 291ms/step - loss: 3.8780\n",
      "Epoch 5/40\n",
      "2/2 [==============================] - 1s 286ms/step - loss: 3.8356\n",
      "Epoch 6/40\n",
      "2/2 [==============================] - 1s 306ms/step - loss: 3.7393\n",
      "Epoch 7/40\n",
      "2/2 [==============================] - 1s 304ms/step - loss: 3.6680\n",
      "Epoch 8/40\n",
      "2/2 [==============================] - 1s 330ms/step - loss: 3.5232\n",
      "Epoch 9/40\n",
      "2/2 [==============================] - 1s 329ms/step - loss: 3.3992\n",
      "Epoch 10/40\n",
      "2/2 [==============================] - 1s 327ms/step - loss: 3.2186\n",
      "Epoch 11/40\n",
      "2/2 [==============================] - 1s 283ms/step - loss: 3.2430\n",
      "Epoch 12/40\n",
      "2/2 [==============================] - 1s 319ms/step - loss: 3.1973\n",
      "Epoch 13/40\n",
      "2/2 [==============================] - 1s 304ms/step - loss: 3.1621\n",
      "Epoch 14/40\n",
      "2/2 [==============================] - 1s 291ms/step - loss: 3.1565\n",
      "Epoch 15/40\n",
      "2/2 [==============================] - 1s 297ms/step - loss: 3.1077\n",
      "Epoch 16/40\n",
      "2/2 [==============================] - 1s 289ms/step - loss: 3.0987\n",
      "Epoch 17/40\n",
      "2/2 [==============================] - 1s 298ms/step - loss: 3.0675\n",
      "Epoch 18/40\n",
      "2/2 [==============================] - 1s 278ms/step - loss: 3.0537\n",
      "Epoch 19/40\n",
      "2/2 [==============================] - 1s 286ms/step - loss: 3.0229\n",
      "Epoch 20/40\n",
      "2/2 [==============================] - 1s 279ms/step - loss: 2.9726\n",
      "Epoch 21/40\n",
      "2/2 [==============================] - 1s 295ms/step - loss: 2.9611\n",
      "Epoch 22/40\n",
      "2/2 [==============================] - 1s 295ms/step - loss: 2.9195\n",
      "Epoch 23/40\n",
      "2/2 [==============================] - 1s 294ms/step - loss: 2.8751\n",
      "Epoch 24/40\n",
      "2/2 [==============================] - 1s 304ms/step - loss: 2.8317\n",
      "Epoch 25/40\n",
      "2/2 [==============================] - 1s 300ms/step - loss: 2.7995\n",
      "Epoch 26/40\n",
      "2/2 [==============================] - 1s 319ms/step - loss: 2.7748\n",
      "Epoch 27/40\n",
      "2/2 [==============================] - 1s 285ms/step - loss: 2.7200\n",
      "Epoch 28/40\n",
      "2/2 [==============================] - 1s 300ms/step - loss: 2.6925\n",
      "Epoch 29/40\n",
      "2/2 [==============================] - 1s 319ms/step - loss: 2.6485\n",
      "Epoch 30/40\n",
      "2/2 [==============================] - 1s 284ms/step - loss: 2.6088\n",
      "Epoch 31/40\n",
      "2/2 [==============================] - 1s 294ms/step - loss: 2.5603\n",
      "Epoch 32/40\n",
      "2/2 [==============================] - 1s 293ms/step - loss: 2.5257\n",
      "Epoch 33/40\n",
      "2/2 [==============================] - 1s 294ms/step - loss: 2.5099\n",
      "Epoch 34/40\n",
      "2/2 [==============================] - 1s 294ms/step - loss: 2.4764\n",
      "Epoch 35/40\n",
      "2/2 [==============================] - 1s 302ms/step - loss: 2.4433\n",
      "Epoch 36/40\n",
      "2/2 [==============================] - 1s 306ms/step - loss: 2.3963\n",
      "Epoch 37/40\n",
      "2/2 [==============================] - 1s 293ms/step - loss: 2.4054\n",
      "Epoch 38/40\n",
      "2/2 [==============================] - 1s 297ms/step - loss: 2.3804\n",
      "Epoch 39/40\n",
      "2/2 [==============================] - 1s 303ms/step - loss: 2.3439\n",
      "Epoch 40/40\n",
      "2/2 [==============================] - 1s 288ms/step - loss: 2.3324\n"
     ]
    }
   ],
   "source": [
    "history = model.fit(dataset.repeat(), epochs=40, steps_per_epoch=steps_per_epoch, callbacks=[checkpoint_callback])"
   ]
  },
  {
   "cell_type": "code",
   "execution_count": 23,
   "metadata": {},
   "outputs": [
    {
     "data": {
      "text/plain": [
       "'./CheckpointData/ckpt_40'"
      ]
     },
     "execution_count": 23,
     "metadata": {},
     "output_type": "execute_result"
    }
   ],
   "source": [
    "tf.train.latest_checkpoint(checkpoint_dir)"
   ]
  },
  {
   "cell_type": "code",
   "execution_count": 24,
   "metadata": {},
   "outputs": [],
   "source": [
    "model = build_model(vocab_size, embedding_dim, rnn_units, batch_size=1)\n",
    "\n",
    "model.load_weights(tf.train.latest_checkpoint(checkpoint_dir))\n",
    "\n",
    "model.build(tf.TensorShape([1, None]))"
   ]
  },
  {
   "cell_type": "code",
   "execution_count": 33,
   "metadata": {},
   "outputs": [],
   "source": [
    "def generate_text(model, start_string):\n",
    "  # Evaluation step (generating text using the learned model)\n",
    "\n",
    "  # Number of characters to generate\n",
    "  num_generate = 1000\n",
    "\n",
    "  # Converting our start string to numbers (vectorizing) \n",
    "  input_eval = [char2idx[s] for s in start_string]\n",
    "  input_eval = tf.expand_dims(input_eval, 0)\n",
    "\n",
    "  # Empty string to store our results\n",
    "  text_generated = []\n",
    "\n",
    "  # Low temperatures results in more predictable text.\n",
    "  # Higher temperatures results in more surprising text.\n",
    "  # Experiment to find the best setting.\n",
    "  temperature = 0.7\n",
    "\n",
    "  # Here batch size == 1\n",
    "  model.reset_states()\n",
    "  for i in range(num_generate):\n",
    "      predictions = model(input_eval)\n",
    "        \n",
    "      # remove the batch dimension\n",
    "      predictions = tf.squeeze(predictions, 0)\n",
    "\n",
    "      # using a multinomial distribution to predict the word returned by the model\n",
    "      predictions = predictions / temperature\n",
    "      predicted_id = tf.multinomial(predictions, num_samples=1)[-1,0].numpy()\n",
    "      \n",
    "      # We pass the predicted word as the next input to the model\n",
    "      # along with the previous hidden state\n",
    "      input_eval = tf.expand_dims([predicted_id], 0)\n",
    "      \n",
    "      text_generated.append(idx2char[predicted_id])\n",
    "\n",
    "  return (start_string + ''.join(text_generated))"
   ]
  },
  {
   "cell_type": "code",
   "execution_count": 34,
   "metadata": {},
   "outputs": [
    {
     "name": "stdout",
     "output_type": "stream",
     "text": [
      "Begin:\n",
      "-'l wak\n",
      "I Cot wey inllig fre sowe\n",
      "- Nhe junit\n",
      "Be dod thing the alve cous cimend\n",
      "Thale we\n",
      "Yon, I wouny and sond our thas Ther corve dhar phet\n",
      "Gor the me\n",
      "I sout be juthe os orels monw, domingtit tos ing inlir kollik\n",
      "Lol don ton, hanl the as fatlon, I duren tim\n",
      "He syoo lelnon be nowe, don an dores get mast or ay doret thina thit th\n",
      "To, hare llat\n",
      "Ang in hagse thave lo whas thing so tho bers arsy urece wow an cow mart you gire go sotha lot nom gowes\n",
      "Let, thathe al tit hory, nave sarset the lod\n",
      "I Youn tol hasthe the won and on'g wer your you le got son ang tos juver she to'w mhan the gorme weave I baven\n",
      "Tive sey ans\n",
      "- Het mave rerla some hot on that the he mast\n",
      "I me fover ghand than'nl oo, I gome mit me yout gof bes wane I sonte\n",
      "Tid sha hoker in Ser hrere\n",
      "I Tore pibes tout\n",
      "You gtet you t oor fowe erfy ond bo gore she lfore son one mo\n",
      "Sem ancat mis ora lle\n",
      "What they he cou gyou gome the gor you, the you gous te basthe\n",
      "- Yese meidle't mike somey an buant wount etaghe gherle ho't he pils mod th\n"
     ]
    }
   ],
   "source": [
    "print(generate_text(model, start_string=u\"Begin:\\n\"))\n"
   ]
  },
  {
   "cell_type": "code",
   "execution_count": null,
   "metadata": {},
   "outputs": [],
   "source": []
  }
 ],
 "metadata": {
  "kernelspec": {
   "display_name": "Python 3",
   "language": "python",
   "name": "python3"
  },
  "language_info": {
   "codemirror_mode": {
    "name": "ipython",
    "version": 3
   },
   "file_extension": ".py",
   "mimetype": "text/x-python",
   "name": "python",
   "nbconvert_exporter": "python",
   "pygments_lexer": "ipython3",
   "version": "3.7.3"
  }
 },
 "nbformat": 4,
 "nbformat_minor": 2
}
