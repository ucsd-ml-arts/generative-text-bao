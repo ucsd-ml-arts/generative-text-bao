{
 "cells": [
  {
   "cell_type": "code",
   "execution_count": 117,
   "metadata": {},
   "outputs": [],
   "source": [
    "from __future__ import absolute_import, division, print_function\n",
    "\n",
    "import tensorflow as tf\n",
    "tf.enable_eager_execution()\n",
    "\n",
    "import numpy as np\n",
    "import os\n",
    "import time\n",
    "from IPython.display import Image"
   ]
  },
  {
   "cell_type": "code",
   "execution_count": 118,
   "metadata": {},
   "outputs": [],
   "source": [
    "# Use my file:\n",
    "path_to_file = \"himym.txt\""
   ]
  },
  {
   "cell_type": "code",
   "execution_count": 119,
   "metadata": {},
   "outputs": [
    {
     "name": "stdout",
     "output_type": "stream",
     "text": [
      "Length of text: 15391 characters\n"
     ]
    }
   ],
   "source": [
    "# Read, then decode for py2 compat.\n",
    "text = open(path_to_file, 'rb').read().decode(encoding = \"ISO-8859-1\")\n",
    "# length of text is the number of characters in it\n",
    "print ('Length of text: {} characters'.format(len(text)))"
   ]
  },
  {
   "cell_type": "code",
   "execution_count": 120,
   "metadata": {},
   "outputs": [],
   "source": [
    "# The unique characters in the file\n",
    "vocab = sorted(set(text))"
   ]
  },
  {
   "cell_type": "code",
   "execution_count": 121,
   "metadata": {},
   "outputs": [],
   "source": [
    "# Creating a mapping from unique characters to indices\n",
    "char2idx = {u:i for i, u in enumerate(vocab)}\n",
    "idx2char = np.array(vocab)\n",
    "\n",
    "text_as_int = np.array([char2idx[c] for c in text])"
   ]
  },
  {
   "cell_type": "code",
   "execution_count": 122,
   "metadata": {},
   "outputs": [],
   "source": [
    "# The maximum length sentence we want for a single input in characters\n",
    "seq_length = 120\n",
    "examples_per_epoch = len(text)//seq_length\n",
    "\n",
    "# Create training examples / targets\n",
    "char_dataset = tf.data.Dataset.from_tensor_slices(text_as_int)\n",
    "\n",
    "sequences = char_dataset.batch(seq_length+1, drop_remainder=True)"
   ]
  },
  {
   "cell_type": "code",
   "execution_count": 123,
   "metadata": {},
   "outputs": [],
   "source": [
    "def split_input_target(chunk):\n",
    "    input_text = chunk[:-1]\n",
    "    target_text = chunk[1:]\n",
    "    return input_text, target_text\n",
    "\n",
    "dataset = sequences.map(split_input_target)"
   ]
  },
  {
   "cell_type": "code",
   "execution_count": 124,
   "metadata": {},
   "outputs": [],
   "source": [
    "# Batch size\n",
    "BATCH_SIZE = 100\n",
    "\n",
    "# How many individual training steps per samples (steps)\n",
    "steps_per_epoch = examples_per_epoch//BATCH_SIZE\n",
    "\n",
    "# Buffer size to shuffle the dataset\n",
    "# (TF data is designed to work with possibly infinite sequences, \n",
    "# so it doesn't attempt to shuffle the entire sequence in memory. Instead, \n",
    "# it maintains a buffer in which it shuffles elements).\n",
    "BUFFER_SIZE = 10000\n",
    "\n",
    "dataset = dataset.shuffle(BUFFER_SIZE).batch(BATCH_SIZE, drop_remainder=True)\n"
   ]
  },
  {
   "cell_type": "code",
   "execution_count": 125,
   "metadata": {},
   "outputs": [],
   "source": [
    "# Length of the vocabulary in chars\n",
    "vocab_size = len(vocab)\n",
    "\n",
    "# The embedding dimension \n",
    "embedding_dim = 256\n",
    "\n",
    "# Number of RNN units\n",
    "rnn_units = 1024"
   ]
  },
  {
   "cell_type": "code",
   "execution_count": 126,
   "metadata": {},
   "outputs": [],
   "source": [
    "if tf.test.is_gpu_available():\n",
    "  rnn = tf.keras.layers.CuDNNGRU\n",
    "  rnn2 = tf.keras.layers.CuDNNGRU\n",
    "else:\n",
    "  import functools\n",
    "  rnn = functools.partial(\n",
    "    tf.keras.layers.GRU, recurrent_activation='sigmoid')"
   ]
  },
  {
   "cell_type": "code",
   "execution_count": 127,
   "metadata": {},
   "outputs": [],
   "source": [
    "def build_model(vocab_size, embedding_dim, rnn_units, batch_size):\n",
    "  model = tf.keras.Sequential([\n",
    "    tf.keras.layers.Embedding(vocab_size, embedding_dim, \n",
    "                              batch_input_shape=[batch_size, None]),\n",
    "    rnn(rnn_units,\n",
    "        return_sequences=True, \n",
    "        recurrent_initializer='glorot_uniform',\n",
    "        stateful=True),\n",
    "      \n",
    "    rnn(rnn_units,\n",
    "        return_sequences=True, \n",
    "        recurrent_initializer='glorot_uniform',\n",
    "        stateful=True),\n",
    "\n",
    "    tf.keras.layers.Dense(vocab_size)\n",
    "  ])\n",
    "  return model"
   ]
  },
  {
   "cell_type": "code",
   "execution_count": 128,
   "metadata": {},
   "outputs": [
    {
     "name": "stderr",
     "output_type": "stream",
     "text": [
      "W1019 13:20:50.111489 139965152700224 util.py:244] Unresolved object in checkpoint: (root).optimizer\n",
      "W1019 13:20:50.112749 139965152700224 util.py:244] Unresolved object in checkpoint: (root).optimizer.optimizer\n",
      "W1019 13:20:50.113587 139965152700224 util.py:244] Unresolved object in checkpoint: (root).optimizer.global_step\n",
      "W1019 13:20:50.114210 139965152700224 util.py:244] Unresolved object in checkpoint: (root).optimizer.optimizer.beta1_power\n",
      "W1019 13:20:50.114840 139965152700224 util.py:244] Unresolved object in checkpoint: (root).optimizer.optimizer.beta2_power\n",
      "W1019 13:20:50.115468 139965152700224 util.py:244] Unresolved object in checkpoint: (root).optimizer.optimizer's state 'm' for (root).layer_with_weights-0.embeddings\n",
      "W1019 13:20:50.116108 139965152700224 util.py:244] Unresolved object in checkpoint: (root).optimizer.optimizer's state 'm' for (root).layer_with_weights-1.kernel\n",
      "W1019 13:20:50.116725 139965152700224 util.py:244] Unresolved object in checkpoint: (root).optimizer.optimizer's state 'm' for (root).layer_with_weights-1.recurrent_kernel\n",
      "W1019 13:20:50.117593 139965152700224 util.py:244] Unresolved object in checkpoint: (root).optimizer.optimizer's state 'm' for (root).layer_with_weights-1.bias\n",
      "W1019 13:20:50.118393 139965152700224 util.py:244] Unresolved object in checkpoint: (root).optimizer.optimizer's state 'm' for (root).layer_with_weights-2.kernel\n",
      "W1019 13:20:50.119076 139965152700224 util.py:244] Unresolved object in checkpoint: (root).optimizer.optimizer's state 'm' for (root).layer_with_weights-2.recurrent_kernel\n",
      "W1019 13:20:50.119814 139965152700224 util.py:244] Unresolved object in checkpoint: (root).optimizer.optimizer's state 'm' for (root).layer_with_weights-2.bias\n",
      "W1019 13:20:50.122479 139965152700224 util.py:244] Unresolved object in checkpoint: (root).optimizer.optimizer's state 'm' for (root).layer_with_weights-3.kernel\n",
      "W1019 13:20:50.123202 139965152700224 util.py:244] Unresolved object in checkpoint: (root).optimizer.optimizer's state 'm' for (root).layer_with_weights-3.bias\n",
      "W1019 13:20:50.124341 139965152700224 util.py:244] Unresolved object in checkpoint: (root).optimizer.optimizer's state 'v' for (root).layer_with_weights-0.embeddings\n",
      "W1019 13:20:50.125027 139965152700224 util.py:244] Unresolved object in checkpoint: (root).optimizer.optimizer's state 'v' for (root).layer_with_weights-1.kernel\n",
      "W1019 13:20:50.125680 139965152700224 util.py:244] Unresolved object in checkpoint: (root).optimizer.optimizer's state 'v' for (root).layer_with_weights-1.recurrent_kernel\n",
      "W1019 13:20:50.126328 139965152700224 util.py:244] Unresolved object in checkpoint: (root).optimizer.optimizer's state 'v' for (root).layer_with_weights-1.bias\n",
      "W1019 13:20:50.126991 139965152700224 util.py:244] Unresolved object in checkpoint: (root).optimizer.optimizer's state 'v' for (root).layer_with_weights-2.kernel\n",
      "W1019 13:20:50.127605 139965152700224 util.py:244] Unresolved object in checkpoint: (root).optimizer.optimizer's state 'v' for (root).layer_with_weights-2.recurrent_kernel\n",
      "W1019 13:20:50.128243 139965152700224 util.py:244] Unresolved object in checkpoint: (root).optimizer.optimizer's state 'v' for (root).layer_with_weights-2.bias\n",
      "W1019 13:20:50.128936 139965152700224 util.py:244] Unresolved object in checkpoint: (root).optimizer.optimizer's state 'v' for (root).layer_with_weights-3.kernel\n",
      "W1019 13:20:50.130912 139965152700224 util.py:244] Unresolved object in checkpoint: (root).optimizer.optimizer's state 'v' for (root).layer_with_weights-3.bias\n",
      "W1019 13:20:50.131649 139965152700224 util.py:252] A checkpoint was restored (e.g. tf.train.Checkpoint.restore or tf.keras.Model.load_weights) but not all checkpointed values were used. See above for specific issues. Use expect_partial() on the load status object, e.g. tf.train.Checkpoint.restore(...).expect_partial(), to silence these warnings, or use assert_consumed() to make the check explicit. See https://www.tensorflow.org/alpha/guide/checkpoints#loading_mechanics for details.\n"
     ]
    }
   ],
   "source": [
    "model = build_model(\n",
    "  vocab_size = len(vocab), \n",
    "  embedding_dim=embedding_dim, \n",
    "  rnn_units=rnn_units, \n",
    "  batch_size=BATCH_SIZE)"
   ]
  },
  {
   "cell_type": "code",
   "execution_count": 129,
   "metadata": {},
   "outputs": [],
   "source": [
    "for input_example_batch, target_example_batch in dataset.take(1): \n",
    "  example_batch_predictions = model(input_example_batch)"
   ]
  },
  {
   "cell_type": "code",
   "execution_count": 130,
   "metadata": {},
   "outputs": [],
   "source": [
    "sampled_indices = tf.random.categorical(example_batch_predictions[0], num_samples=1)\n",
    "sampled_indices = tf.squeeze(sampled_indices,axis=-1).numpy()"
   ]
  },
  {
   "cell_type": "code",
   "execution_count": 131,
   "metadata": {},
   "outputs": [
    {
     "name": "stdout",
     "output_type": "stream",
     "text": [
      "Prediction shape:  (100, 120, 69)  # (batch_size, sequence_length, vocab_size)\n",
      "scalar_loss:       4.233464\n"
     ]
    }
   ],
   "source": [
    "def loss(labels, logits):\n",
    "  return tf.keras.losses.sparse_categorical_crossentropy(labels, logits, from_logits=True)\n",
    "\n",
    "example_batch_loss  = loss(target_example_batch, example_batch_predictions)\n",
    "print(\"Prediction shape: \", example_batch_predictions.shape, \" # (batch_size, sequence_length, vocab_size)\") \n",
    "print(\"scalar_loss:      \", example_batch_loss.numpy().mean())"
   ]
  },
  {
   "cell_type": "code",
   "execution_count": 132,
   "metadata": {},
   "outputs": [],
   "source": [
    "model.compile(\n",
    "    optimizer = tf.train.AdamOptimizer(),\n",
    "    loss = loss)"
   ]
  },
  {
   "cell_type": "code",
   "execution_count": 133,
   "metadata": {},
   "outputs": [],
   "source": [
    "# Directory where the checkpoints will be saved\n",
    "checkpoint_dir = './CheckpointData'\n",
    "\n",
    "# Name of the checkpoint files\n",
    "checkpoint_prefix = os.path.join(checkpoint_dir, \"ckpt_{epoch}\")\n",
    "\n",
    "checkpoint_callback=tf.keras.callbacks.ModelCheckpoint(\n",
    "    filepath=checkpoint_prefix,\n",
    "    save_weights_only=True)"
   ]
  },
  {
   "cell_type": "code",
   "execution_count": 134,
   "metadata": {},
   "outputs": [
    {
     "name": "stdout",
     "output_type": "stream",
     "text": [
      "Epoch 1/100\n",
      "1/1 [==============================] - 2s 2s/step - loss: 4.2335\n",
      "Epoch 2/100\n",
      "1/1 [==============================] - 1s 550ms/step - loss: 4.1530\n",
      "Epoch 3/100\n",
      "1/1 [==============================] - 1s 569ms/step - loss: 3.7195\n",
      "Epoch 4/100\n",
      "1/1 [==============================] - 1s 547ms/step - loss: 11.0283\n",
      "Epoch 5/100\n",
      "1/1 [==============================] - 1s 598ms/step - loss: 3.6927\n",
      "Epoch 6/100\n",
      "1/1 [==============================] - 1s 555ms/step - loss: 3.7492\n",
      "Epoch 7/100\n",
      "1/1 [==============================] - 1s 572ms/step - loss: 3.9543\n",
      "Epoch 8/100\n",
      "1/1 [==============================] - 1s 584ms/step - loss: 3.9997\n",
      "Epoch 9/100\n",
      "1/1 [==============================] - 1s 582ms/step - loss: 3.9941\n",
      "Epoch 10/100\n",
      "1/1 [==============================] - 1s 606ms/step - loss: 3.9624\n",
      "Epoch 11/100\n",
      "1/1 [==============================] - 1s 588ms/step - loss: 3.9081\n",
      "Epoch 12/100\n",
      "1/1 [==============================] - 1s 562ms/step - loss: 3.8361\n",
      "Epoch 13/100\n",
      "1/1 [==============================] - 1s 580ms/step - loss: 3.7923\n",
      "Epoch 14/100\n",
      "1/1 [==============================] - 1s 573ms/step - loss: 3.7957\n",
      "Epoch 15/100\n",
      "1/1 [==============================] - 1s 619ms/step - loss: 3.7138\n",
      "Epoch 16/100\n",
      "1/1 [==============================] - 1s 678ms/step - loss: 3.6111\n",
      "Epoch 17/100\n",
      "1/1 [==============================] - 1s 611ms/step - loss: 3.5294\n",
      "Epoch 18/100\n",
      "1/1 [==============================] - 1s 625ms/step - loss: 3.4702\n",
      "Epoch 19/100\n",
      "1/1 [==============================] - 1s 627ms/step - loss: 3.3813\n",
      "Epoch 20/100\n",
      "1/1 [==============================] - 1s 576ms/step - loss: 3.2475\n",
      "Epoch 21/100\n",
      "1/1 [==============================] - 1s 568ms/step - loss: 3.1724\n",
      "Epoch 22/100\n",
      "1/1 [==============================] - 1s 539ms/step - loss: 3.2448\n",
      "Epoch 23/100\n",
      "1/1 [==============================] - 1s 570ms/step - loss: 3.3027\n",
      "Epoch 24/100\n",
      "1/1 [==============================] - 1s 545ms/step - loss: 3.2384\n",
      "Epoch 25/100\n",
      "1/1 [==============================] - 1s 567ms/step - loss: 3.1916\n",
      "Epoch 26/100\n",
      "1/1 [==============================] - 1s 573ms/step - loss: 3.1558\n",
      "Epoch 27/100\n",
      "1/1 [==============================] - 1s 586ms/step - loss: 3.1425\n",
      "Epoch 28/100\n",
      "1/1 [==============================] - 1s 579ms/step - loss: 3.1372\n",
      "Epoch 29/100\n",
      "1/1 [==============================] - 1s 596ms/step - loss: 3.1442\n",
      "Epoch 30/100\n",
      "1/1 [==============================] - 1s 559ms/step - loss: 3.1393\n",
      "Epoch 31/100\n",
      "1/1 [==============================] - 1s 580ms/step - loss: 3.1202\n",
      "Epoch 32/100\n",
      "1/1 [==============================] - 1s 581ms/step - loss: 3.1007\n",
      "Epoch 33/100\n",
      "1/1 [==============================] - 1s 568ms/step - loss: 3.0963\n",
      "Epoch 34/100\n",
      "1/1 [==============================] - 1s 541ms/step - loss: 3.0778\n",
      "Epoch 35/100\n",
      "1/1 [==============================] - 1s 606ms/step - loss: 3.0651\n",
      "Epoch 36/100\n",
      "1/1 [==============================] - 1s 627ms/step - loss: 3.0535\n",
      "Epoch 37/100\n",
      "1/1 [==============================] - 1s 616ms/step - loss: 3.0440\n",
      "Epoch 38/100\n",
      "1/1 [==============================] - 1s 652ms/step - loss: 3.0207\n",
      "Epoch 39/100\n",
      "1/1 [==============================] - 1s 609ms/step - loss: 3.0093\n",
      "Epoch 40/100\n",
      "1/1 [==============================] - 1s 596ms/step - loss: 2.9986\n",
      "Epoch 41/100\n",
      "1/1 [==============================] - 1s 595ms/step - loss: 2.9899\n",
      "Epoch 42/100\n",
      "1/1 [==============================] - 1s 560ms/step - loss: 2.9795\n",
      "Epoch 43/100\n",
      "1/1 [==============================] - 1s 541ms/step - loss: 2.9688\n",
      "Epoch 44/100\n",
      "1/1 [==============================] - 1s 543ms/step - loss: 2.9406\n",
      "Epoch 45/100\n",
      "1/1 [==============================] - 1s 567ms/step - loss: 2.9310\n",
      "Epoch 46/100\n",
      "1/1 [==============================] - 1s 573ms/step - loss: 2.9194\n",
      "Epoch 47/100\n",
      "1/1 [==============================] - 1s 604ms/step - loss: 2.9081\n",
      "Epoch 48/100\n",
      "1/1 [==============================] - 1s 593ms/step - loss: 2.9027\n",
      "Epoch 49/100\n",
      "1/1 [==============================] - 1s 580ms/step - loss: 2.8770\n",
      "Epoch 50/100\n",
      "1/1 [==============================] - 1s 602ms/step - loss: 2.8778\n",
      "Epoch 51/100\n",
      "1/1 [==============================] - 1s 573ms/step - loss: 2.8509\n",
      "Epoch 52/100\n",
      "1/1 [==============================] - 1s 547ms/step - loss: 2.8311\n",
      "Epoch 53/100\n",
      "1/1 [==============================] - 1s 591ms/step - loss: 2.8108\n",
      "Epoch 54/100\n",
      "1/1 [==============================] - 1s 540ms/step - loss: 2.7917\n",
      "Epoch 55/100\n",
      "1/1 [==============================] - 1s 564ms/step - loss: 2.7875\n",
      "Epoch 56/100\n",
      "1/1 [==============================] - 1s 542ms/step - loss: 2.7604\n",
      "Epoch 57/100\n",
      "1/1 [==============================] - 1s 589ms/step - loss: 2.7528\n",
      "Epoch 58/100\n",
      "1/1 [==============================] - 1s 615ms/step - loss: 2.7370\n",
      "Epoch 59/100\n",
      "1/1 [==============================] - 1s 597ms/step - loss: 2.7285\n",
      "Epoch 60/100\n",
      "1/1 [==============================] - 1s 611ms/step - loss: 2.7139\n",
      "Epoch 61/100\n",
      "1/1 [==============================] - 1s 609ms/step - loss: 2.6937\n",
      "Epoch 62/100\n",
      "1/1 [==============================] - 1s 545ms/step - loss: 2.6756\n",
      "Epoch 63/100\n",
      "1/1 [==============================] - 1s 592ms/step - loss: 2.6483\n",
      "Epoch 64/100\n",
      "1/1 [==============================] - 1s 550ms/step - loss: 2.6304\n",
      "Epoch 65/100\n",
      "1/1 [==============================] - 1s 557ms/step - loss: 2.6170\n",
      "Epoch 66/100\n",
      "1/1 [==============================] - 1s 557ms/step - loss: 2.5797\n",
      "Epoch 67/100\n",
      "1/1 [==============================] - 1s 568ms/step - loss: 2.5681\n",
      "Epoch 68/100\n",
      "1/1 [==============================] - 1s 628ms/step - loss: 2.5580\n",
      "Epoch 69/100\n",
      "1/1 [==============================] - 1s 622ms/step - loss: 2.5259\n",
      "Epoch 70/100\n",
      "1/1 [==============================] - 1s 626ms/step - loss: 2.5141\n",
      "Epoch 71/100\n",
      "1/1 [==============================] - 1s 579ms/step - loss: 2.4935\n",
      "Epoch 72/100\n",
      "1/1 [==============================] - 1s 557ms/step - loss: 2.4749\n",
      "Epoch 73/100\n",
      "1/1 [==============================] - 1s 549ms/step - loss: 2.4602\n",
      "Epoch 74/100\n",
      "1/1 [==============================] - 1s 568ms/step - loss: 2.4514\n",
      "Epoch 75/100\n",
      "1/1 [==============================] - 1s 554ms/step - loss: 2.4346\n",
      "Epoch 76/100\n",
      "1/1 [==============================] - 1s 543ms/step - loss: 2.4276\n",
      "Epoch 77/100\n",
      "1/1 [==============================] - 1s 591ms/step - loss: 2.4141\n",
      "Epoch 78/100\n",
      "1/1 [==============================] - 1s 597ms/step - loss: 2.4022\n",
      "Epoch 79/100\n",
      "1/1 [==============================] - 1s 596ms/step - loss: 2.3889\n",
      "Epoch 80/100\n",
      "1/1 [==============================] - 1s 571ms/step - loss: 2.3847\n",
      "Epoch 81/100\n",
      "1/1 [==============================] - 1s 584ms/step - loss: 2.3688\n",
      "Epoch 82/100\n",
      "1/1 [==============================] - 1s 597ms/step - loss: 2.3589\n",
      "Epoch 83/100\n",
      "1/1 [==============================] - 1s 563ms/step - loss: 2.3556\n",
      "Epoch 84/100\n",
      "1/1 [==============================] - 1s 534ms/step - loss: 2.3515\n",
      "Epoch 85/100\n",
      "1/1 [==============================] - 1s 521ms/step - loss: 2.3245\n",
      "Epoch 86/100\n",
      "1/1 [==============================] - 1s 556ms/step - loss: 2.3252\n",
      "Epoch 87/100\n",
      "1/1 [==============================] - 1s 557ms/step - loss: 2.3117\n",
      "Epoch 88/100\n",
      "1/1 [==============================] - 1s 583ms/step - loss: 2.2981\n",
      "Epoch 89/100\n",
      "1/1 [==============================] - 1s 578ms/step - loss: 2.2921\n",
      "Epoch 90/100\n",
      "1/1 [==============================] - 1s 594ms/step - loss: 2.2751\n",
      "Epoch 91/100\n",
      "1/1 [==============================] - 1s 574ms/step - loss: 2.2688\n",
      "Epoch 92/100\n",
      "1/1 [==============================] - 1s 564ms/step - loss: 2.2504\n",
      "Epoch 93/100\n",
      "1/1 [==============================] - 1s 564ms/step - loss: 2.2598\n",
      "Epoch 94/100\n",
      "1/1 [==============================] - 1s 587ms/step - loss: 2.2408\n",
      "Epoch 95/100\n",
      "1/1 [==============================] - 1s 566ms/step - loss: 2.2403\n",
      "Epoch 96/100\n",
      "1/1 [==============================] - 1s 590ms/step - loss: 2.2221\n",
      "Epoch 97/100\n",
      "1/1 [==============================] - 1s 565ms/step - loss: 2.2200\n",
      "Epoch 98/100\n",
      "1/1 [==============================] - 1s 572ms/step - loss: 2.2039\n",
      "Epoch 99/100\n",
      "1/1 [==============================] - 1s 585ms/step - loss: 2.2018\n",
      "Epoch 100/100\n",
      "1/1 [==============================] - 1s 546ms/step - loss: 2.1893\n"
     ]
    }
   ],
   "source": [
    "history = model.fit(dataset.repeat(), epochs=100, steps_per_epoch=steps_per_epoch, callbacks=[checkpoint_callback])"
   ]
  },
  {
   "cell_type": "code",
   "execution_count": 135,
   "metadata": {},
   "outputs": [],
   "source": [
    "tf.train.latest_checkpoint(checkpoint_dir)\n",
    "\n",
    "model = build_model(vocab_size, embedding_dim, rnn_units, batch_size=1)\n",
    "\n",
    "model.load_weights(tf.train.latest_checkpoint(checkpoint_dir))\n",
    "\n",
    "model.build(tf.TensorShape([1, None]))"
   ]
  },
  {
   "cell_type": "code",
   "execution_count": 136,
   "metadata": {},
   "outputs": [],
   "source": [
    "def generate_text(model, start_string):\n",
    "  # Evaluation step (generating text using the learned model)\n",
    "\n",
    "  # Number of characters to generate\n",
    "  num_generate = 1000\n",
    "\n",
    "  # Converting our start string to numbers (vectorizing) \n",
    "  input_eval = [char2idx[s] for s in start_string]\n",
    "  input_eval = tf.expand_dims(input_eval, 0)\n",
    "\n",
    "  # Empty string to store our results\n",
    "  text_generated = []\n",
    "\n",
    "  # Low temperatures results in more predictable text.\n",
    "  # Higher temperatures results in more surprising text.\n",
    "  # Experiment to find the best setting.\n",
    "  temperature = 0.7\n",
    "\n",
    "  # Here batch size == 1\n",
    "  model.reset_states()\n",
    "  for i in range(num_generate):\n",
    "      predictions = model(input_eval)\n",
    "        \n",
    "      # remove the batch dimension\n",
    "      predictions = tf.squeeze(predictions, 0)\n",
    "\n",
    "      # using a multinomial distribution to predict the word returned by the model\n",
    "      predictions = predictions / temperature\n",
    "      predicted_id = tf.multinomial(predictions, num_samples=1)[-1,0].numpy()\n",
    "      \n",
    "      # We pass the predicted word as the next input to the model\n",
    "      # along with the previous hidden state\n",
    "      input_eval = tf.expand_dims([predicted_id], 0)\n",
    "      \n",
    "      text_generated.append(idx2char[predicted_id])\n",
    "\n",
    "  return (start_string + ''.join(text_generated))"
   ]
  },
  {
   "cell_type": "code",
   "execution_count": 137,
   "metadata": {},
   "outputs": [],
   "source": [
    "result = generate_text(model, start_string=u\"Begin:\\n\")\n"
   ]
  },
  {
   "cell_type": "code",
   "execution_count": 138,
   "metadata": {},
   "outputs": [],
   "source": [
    "# Save the result in a file\n",
    "f = open('bachSize=100_epochs=100.txt', 'w+')\n",
    "f.write(result)\n",
    "f.close()"
   ]
  }
 ],
 "metadata": {
  "kernelspec": {
   "display_name": "Python 3",
   "language": "python",
   "name": "python3"
  },
  "language_info": {
   "codemirror_mode": {
    "name": "ipython",
    "version": 3
   },
   "file_extension": ".py",
   "mimetype": "text/x-python",
   "name": "python",
   "nbconvert_exporter": "python",
   "pygments_lexer": "ipython3",
   "version": "3.7.3"
  }
 },
 "nbformat": 4,
 "nbformat_minor": 2
}
