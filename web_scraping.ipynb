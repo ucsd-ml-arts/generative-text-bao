{
 "cells": [
  {
   "cell_type": "code",
   "execution_count": 20,
   "metadata": {},
   "outputs": [],
   "source": [
    "from bs4 import BeautifulSoup as soup\n",
    "from urllib.request import urlopen as uReq\n",
    "import re\n"
   ]
  },
  {
   "cell_type": "code",
   "execution_count": 21,
   "metadata": {},
   "outputs": [],
   "source": [
    "my_url = 'https://www.springfieldspringfield.co.uk/view_episode_scripts.php?tv-show=how-i-met-your-mother&episode=s01e01'\n",
    "\n",
    "# Get the page from url\n",
    "client = uReq(my_url)\n",
    "page_html = client.read()\n",
    "\n",
    "# Close the page after getting the data into page_html\n",
    "client.close()"
   ]
  },
  {
   "cell_type": "code",
   "execution_count": 22,
   "metadata": {},
   "outputs": [],
   "source": [
    "# html parsing\n",
    "page_info = soup(page_html, \"html.parser\")\n",
    "container = page_info.findAll(\"div\",{\"class\":\"scrolling-script-container\"})"
   ]
  },
  {
   "cell_type": "code",
   "execution_count": 24,
   "metadata": {},
   "outputs": [],
   "source": [
    "# Getting the text\n",
    "script = container[0].text.strip()\n",
    "\n",
    "# Breaking the paragraph into sentences in each line\n",
    "sentences = re.split(r' *[\\.\\?!][\\'\"\\)\\]]* *',script )\n"
   ]
  },
  {
   "cell_type": "code",
   "execution_count": 30,
   "metadata": {},
   "outputs": [],
   "source": [
    "# Open a new file\n",
    "f = open('himym.txt','w')\n",
    "\n",
    "# Write line by line of the script in the new file\n",
    "for i in sentences:\n",
    "    f.write(i+\"\\n\")\n",
    "\n",
    "f.close()\n"
   ]
  },
  {
   "cell_type": "code",
   "execution_count": null,
   "metadata": {},
   "outputs": [],
   "source": []
  }
 ],
 "metadata": {
  "kernelspec": {
   "display_name": "Python 3",
   "language": "python",
   "name": "python3"
  },
  "language_info": {
   "codemirror_mode": {
    "name": "ipython",
    "version": 3
   },
   "file_extension": ".py",
   "mimetype": "text/x-python",
   "name": "python",
   "nbconvert_exporter": "python",
   "pygments_lexer": "ipython3",
   "version": "3.7.3"
  }
 },
 "nbformat": 4,
 "nbformat_minor": 2
}
